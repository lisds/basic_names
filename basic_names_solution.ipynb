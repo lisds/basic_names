{
 "cells": [
  {
   "cell_type": "markdown",
   "id": "63bc4c05",
   "metadata": {},
   "source": [
    "# Names in Python"
   ]
  },
  {
   "cell_type": "markdown",
   "id": "c2b2eafa",
   "metadata": {},
   "source": [
    "## About this exercise\n",
    "\n",
    "This exercise is an edited version of an exercise from [the Berkeley data\n",
    "science\n",
    "course](https://github.com/data-8/data8assets/tree/gh-pages/materials/exercises/expressions/names/basic_names)\n",
    "with thanks.  If you make a new version of this original, please note that\n",
    "this exercise has a [CC-BY-NC\n",
    "license](http://creativecommons.org/licenses/by-nc/4.0/); remember to give\n",
    "attribution to the original authors from the repository above."
   ]
  },
  {
   "cell_type": "markdown",
   "id": "0b1dfa44",
   "metadata": {},
   "source": [
    "## The OKpy system"
   ]
  },
  {
   "cell_type": "markdown",
   "id": "3f94273e",
   "metadata": {},
   "source": [
    "This notebook uses the [OKpy](https://okpy.org) automatic testing system.  OKpy provides checks for you to test whether you have got the right input.  You'll see those checks further down the notebook, as you work.  They allow you see if you are on the right track.\n",
    "\n",
    "For now, just execute the cell below to get the stuff we need from the OKpy library.\n",
    "\n",
    "If you see errors like `name 'ok' is not defined` further down in this\n",
    "notebook, find this cell again, and execute it."
   ]
  },
  {
   "cell_type": "code",
   "execution_count": 1,
   "id": "c56fa209",
   "metadata": {
    "execution": {
     "iopub.execute_input": "2022-11-01T12:42:47.149187Z",
     "iopub.status.busy": "2022-11-01T12:42:47.148380Z",
     "iopub.status.idle": "2022-11-01T12:42:47.325960Z",
     "shell.execute_reply": "2022-11-01T12:42:47.325282Z"
    }
   },
   "outputs": [],
   "source": [
    "# Run this cell to set up the notebook, but please don't change it.\n",
    "# These lines load the tests.\n",
    "from client.api.notebook import Notebook\n",
    "ok = Notebook('basic_names.ok')\n",
    "import numpy as np"
   ]
  },
  {
   "cell_type": "markdown",
   "id": "4c2adaa2",
   "metadata": {},
   "source": [
    "If you got an error - see above for suggestions.\n",
    "\n",
    "If not, you are ready for question 1."
   ]
  },
  {
   "cell_type": "markdown",
   "id": "31ec01d2",
   "metadata": {},
   "source": [
    "**Question 1.** Suppose you can't remember how many planets there are in our solar system.  Your TA, who went to school in the 1990s, says the answer is 9.  In the next cell, give the name `number_of_planets` to the number 9."
   ]
  },
  {
   "cell_type": "code",
   "execution_count": 2,
   "id": "c56885a0",
   "metadata": {
    "execution": {
     "iopub.execute_input": "2022-11-01T12:42:47.332017Z",
     "iopub.status.busy": "2022-11-01T12:42:47.329934Z",
     "iopub.status.idle": "2022-11-01T12:42:47.335816Z",
     "shell.execute_reply": "2022-11-01T12:42:47.335146Z"
    }
   },
   "outputs": [],
   "source": [
    "number_of_planets = 8"
   ]
  },
  {
   "cell_type": "markdown",
   "id": "0ed888c3",
   "metadata": {},
   "source": [
    "Run the next cell to test your answer.  You should find that the test fails, and it provides a hint about what went wrong.  Fix your answer in the previous cell, following the hint, so that the test passes."
   ]
  },
  {
   "cell_type": "code",
   "execution_count": 3,
   "id": "dfe4c822",
   "metadata": {
    "execution": {
     "iopub.execute_input": "2022-11-01T12:42:47.339857Z",
     "iopub.status.busy": "2022-11-01T12:42:47.339597Z",
     "iopub.status.idle": "2022-11-01T12:42:47.372336Z",
     "shell.execute_reply": "2022-11-01T12:42:47.369926Z"
    }
   },
   "outputs": [],
   "source": [
    "_ = ok.grade('q1')"
   ]
  },
  {
   "cell_type": "markdown",
   "id": "5a9a201b",
   "metadata": {},
   "source": [
    "**Question 2.** A famous fact in mathematics is that\n",
    "\n",
    "$$(1 + \\frac{1}{n})^{n}$$\n",
    "\n",
    "gets very close to the number $e$, which is roughly $2.718$, when $n$ is large.  Use this fact to compute an approximation to $e$, called `roughly_e`.  Your approximation should be correct to at least 5 decimal places."
   ]
  },
  {
   "cell_type": "code",
   "execution_count": 4,
   "id": "5cbf6ef0",
   "metadata": {
    "execution": {
     "iopub.execute_input": "2022-11-01T12:42:47.377482Z",
     "iopub.status.busy": "2022-11-01T12:42:47.377211Z",
     "iopub.status.idle": "2022-11-01T12:42:47.388671Z",
     "shell.execute_reply": "2022-11-01T12:42:47.388133Z"
    }
   },
   "outputs": [],
   "source": [
    "roughly_e = (1 + 1 / 100000) ** 100000\n",
    "roughly_e"
   ]
  },
  {
   "cell_type": "code",
   "execution_count": 5,
   "id": "f4c8a8ed",
   "metadata": {
    "execution": {
     "iopub.execute_input": "2022-11-01T12:42:47.393388Z",
     "iopub.status.busy": "2022-11-01T12:42:47.393149Z",
     "iopub.status.idle": "2022-11-01T12:42:47.426899Z",
     "shell.execute_reply": "2022-11-01T12:42:47.426293Z"
    }
   },
   "outputs": [],
   "source": [
    "_ = ok.grade('q2')"
   ]
  },
  {
   "cell_type": "markdown",
   "id": "51072485",
   "metadata": {},
   "source": [
    "**Question 3.** In the previous question, you might have noticed that you had to type in the value of $n$ twice when you tried different values (once as `1/n` and once as `**n`).  You might have even accidentally used 2 different values.\n",
    "\n",
    "Redo the code in the cell below, giving your estimate of $e$ the name\n",
    "`also_roughly_e`.  Instead of writing the value of $n$ twice, give it the name\n",
    "`n` in your Python code, and then use that name in your expression for\n",
    "`also_roughly_e`."
   ]
  },
  {
   "cell_type": "code",
   "execution_count": 6,
   "id": "8292b35c",
   "metadata": {
    "execution": {
     "iopub.execute_input": "2022-11-01T12:42:47.432800Z",
     "iopub.status.busy": "2022-11-01T12:42:47.432443Z",
     "iopub.status.idle": "2022-11-01T12:42:47.438260Z",
     "shell.execute_reply": "2022-11-01T12:42:47.437513Z"
    }
   },
   "outputs": [],
   "source": [
    "n = 100000\n",
    "also_roughly_e = (1 + 1 / n) ** n\n",
    "also_roughly_e"
   ]
  },
  {
   "cell_type": "code",
   "execution_count": 7,
   "id": "19ec70ad",
   "metadata": {
    "execution": {
     "iopub.execute_input": "2022-11-01T12:42:47.443334Z",
     "iopub.status.busy": "2022-11-01T12:42:47.443113Z",
     "iopub.status.idle": "2022-11-01T12:42:47.480386Z",
     "shell.execute_reply": "2022-11-01T12:42:47.479780Z"
    }
   },
   "outputs": [],
   "source": [
    "_ = ok.grade('q3')"
   ]
  },
  {
   "cell_type": "code",
   "execution_count": 8,
   "id": "8120b850",
   "metadata": {
    "execution": {
     "iopub.execute_input": "2022-11-01T12:42:47.485793Z",
     "iopub.status.busy": "2022-11-01T12:42:47.485396Z",
     "iopub.status.idle": "2022-11-01T12:42:47.532725Z",
     "shell.execute_reply": "2022-11-01T12:42:47.532293Z"
    }
   },
   "outputs": [],
   "source": [
    "# For your convenience, you can run this cell to run all the tests at once!\n",
    "import os\n",
    "_ = [ok.grade(q[:-3]) for q in os.listdir(\"tests\") if q.startswith('q')]"
   ]
  },
  {
   "cell_type": "markdown",
   "id": "ae629f31",
   "metadata": {},
   "source": [
    "## Notes\n",
    "\n",
    "From [the Berkeley course materials](https://github.com/data-8/data8assets) with thanks."
   ]
  }
 ],
 "metadata": {
  "jupytext": {
   "notebook_metadata_filter": "language_info",
   "text_representation": {
    "extension": ".Rmd",
    "format_name": "rmarkdown",
    "format_version": "1.2",
    "jupytext_version": "1.14.0"
   }
  },
  "kernelspec": {
   "display_name": "Python 3 (ipykernel)",
   "language": "python",
   "name": "python3"
  },
  "language_info": {
   "codemirror_mode": {
    "name": "ipython",
    "version": 3
   },
   "file_extension": ".py",
   "mimetype": "text/x-python",
   "name": "python",
   "nbconvert_exporter": "python",
   "pygments_lexer": "ipython3",
   "version": "3.10.7"
  }
 },
 "nbformat": 4,
 "nbformat_minor": 5
}
